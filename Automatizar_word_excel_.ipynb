{
  "nbformat": 4,
  "nbformat_minor": 0,
  "metadata": {
    "colab": {
      "provenance": [],
      "mount_file_id": "1qi9QTLUKChSkNmiMxnzcND5XxTjvhD30",
      "authorship_tag": "ABX9TyMeRC1z4sVIrjF0fzcfKEnJ",
      "include_colab_link": true
    },
    "kernelspec": {
      "name": "python3",
      "display_name": "Python 3"
    },
    "language_info": {
      "name": "python"
    }
  },
  "cells": [
    {
      "cell_type": "markdown",
      "metadata": {
        "id": "view-in-github",
        "colab_type": "text"
      },
      "source": [
        "<a href=\"https://colab.research.google.com/github/sanchezluys/Automatizando-archivo-word-con-datos-de-excel-con-python/blob/main/Automatizar_word_excel_.ipynb\" target=\"_parent\"><img src=\"https://colab.research.google.com/assets/colab-badge.svg\" alt=\"Open In Colab\"/></a>"
      ]
    },
    {
      "cell_type": "markdown",
      "source": [
        "**Automatizar archivo de word con datos de excel con python, colab**\n",
        "\n",
        "- Se tiene una carta de entrega de notas en word, y el listado de alumnos con sus 3 notas de fisica, matematica y quimica.\n",
        "- se tiene los datos del profesor\n",
        "- objetivo:\n",
        "    - automatizar la creacion de todos los archivos de word con el nombre del alumno, dentro los datos del profesor y sus notas\n",
        "    - tomar en cuenta los datos del archivo de excel con las notas"
      ],
      "metadata": {
        "id": "IyNgKmcXNUCY"
      }
    },
    {
      "cell_type": "code",
      "source": [
        "import pandas as pd\n",
        "from datetime import datetime\n",
        "from docxtpl import DocxTemplate"
      ],
      "metadata": {
        "id": "tLk7On7QNjUW"
      },
      "execution_count": 9,
      "outputs": []
    },
    {
      "cell_type": "code",
      "source": [
        "# prompt: conectarme a una carpeta en mi drive\n",
        "\n",
        "from google.colab import drive\n",
        "drive.mount('/content/drive')\n"
      ],
      "metadata": {
        "colab": {
          "base_uri": "https://localhost:8080/"
        },
        "id": "TdwJkLO5PbCm",
        "outputId": "bdf2ea19-a060-4716-8929-0b6e90e5016a"
      },
      "execution_count": 10,
      "outputs": [
        {
          "output_type": "stream",
          "name": "stdout",
          "text": [
            "Drive already mounted at /content/drive; to attempt to forcibly remount, call drive.mount(\"/content/drive\", force_remount=True).\n"
          ]
        }
      ]
    },
    {
      "cell_type": "markdown",
      "source": [
        "instalando las librerias necesarias\n"
      ],
      "metadata": {
        "id": "sZiQriClPzkv"
      }
    },
    {
      "cell_type": "code",
      "source": [
        "# prompt: como instalo la libreria docxtpl\n",
        "\n",
        "!pip install docxtpl -q\n"
      ],
      "metadata": {
        "id": "VkA9qYfaQC_5"
      },
      "execution_count": 12,
      "outputs": []
    },
    {
      "cell_type": "markdown",
      "source": [
        "conectando los archivos\n"
      ],
      "metadata": {
        "id": "PCLjNvA1Q6v3"
      }
    },
    {
      "cell_type": "code",
      "source": [
        "doc=DocxTemplate(\"/content/drive/MyDrive/Colab Notebooks/automatizar_word_excel/carta.docx\")"
      ],
      "metadata": {
        "id": "pzHk_zlKQ-MD"
      },
      "execution_count": 24,
      "outputs": []
    },
    {
      "cell_type": "markdown",
      "source": [
        "Se agregan los datos del profesor\n"
      ],
      "metadata": {
        "id": "o8WxizEFRvKS"
      }
    },
    {
      "cell_type": "code",
      "source": [
        "nombre_profesor=\"Luis Sanchez\"\n",
        "telefono_profesor=\"123-123456\"\n",
        "email_profesor=\"luys@correo.com\"\n",
        "fecha_actual=datetime.now().strftime(\"%d/%m/%Y\")"
      ],
      "metadata": {
        "id": "tb4SiMZvR0yW"
      },
      "execution_count": 14,
      "outputs": []
    },
    {
      "cell_type": "code",
      "source": [
        "print(fecha_actual)"
      ],
      "metadata": {
        "colab": {
          "base_uri": "https://localhost:8080/"
        },
        "id": "3QKr9I7ySPcv",
        "outputId": "19660c82-92ed-4f46-e0dc-6084b24e1107"
      },
      "execution_count": 15,
      "outputs": [
        {
          "output_type": "stream",
          "name": "stdout",
          "text": [
            "16/09/2024\n"
          ]
        }
      ]
    },
    {
      "cell_type": "markdown",
      "source": [
        "creando las tuplas\n"
      ],
      "metadata": {
        "id": "WxOn1HPHST1g"
      }
    },
    {
      "cell_type": "code",
      "source": [
        "constantes={  'nombre_profesor':nombre_profesor,\n",
        "              'telefono_profesor':telefono_profesor,\n",
        "              'email_profesor':email_profesor,\n",
        "              'fecha_actual':fecha_actual\n",
        "              }"
      ],
      "metadata": {
        "id": "Hc6hMgUsSYSh"
      },
      "execution_count": 37,
      "outputs": []
    },
    {
      "cell_type": "code",
      "source": [
        "print(constantes)"
      ],
      "metadata": {
        "colab": {
          "base_uri": "https://localhost:8080/"
        },
        "id": "sAbfq5khSggI",
        "outputId": "89def5cc-18a4-40ab-c3df-817937c62901"
      },
      "execution_count": 38,
      "outputs": [
        {
          "output_type": "stream",
          "name": "stdout",
          "text": [
            "{'nombre_profesor': 'Luis Sanchez', 'telefono_profesor': '123-123456', 'email_profesor': 'luys@correo.com', 'fecha_actual': '16/09/2024'}\n"
          ]
        }
      ]
    },
    {
      "cell_type": "markdown",
      "source": [
        "guardando una prueba\n"
      ],
      "metadata": {
        "id": "SO0V-qKCTI8C"
      }
    },
    {
      "cell_type": "code",
      "source": [
        "doc.render(constantes)\n",
        "# Guardando el archivo con el nombre del alumno\n",
        "doc.save(f\"/content/drive/MyDrive/Colab Notebooks/automatizar_word_excel/carta_1.docx\")"
      ],
      "metadata": {
        "id": "rQoKzGV1UY-T"
      },
      "execution_count": 41,
      "outputs": []
    },
    {
      "cell_type": "markdown",
      "source": [
        "a guardar los datos de excel en una variable\n"
      ],
      "metadata": {
        "id": "inNI9h85Wplw"
      }
    },
    {
      "cell_type": "code",
      "source": [
        "df=pd.read_excel(\"/content/drive/MyDrive/Colab Notebooks/automatizar_word_excel/notas.xlsx\")"
      ],
      "metadata": {
        "id": "JRcmLfqMWt1N"
      },
      "execution_count": 42,
      "outputs": []
    },
    {
      "cell_type": "code",
      "source": [
        "df"
      ],
      "metadata": {
        "colab": {
          "base_uri": "https://localhost:8080/",
          "height": 175
        },
        "id": "_l65eflWWzBP",
        "outputId": "58d3306b-c9ba-4bc3-ed7f-8b04e552e6d8"
      },
      "execution_count": 43,
      "outputs": [
        {
          "output_type": "execute_result",
          "data": {
            "text/plain": [
              "           alumno  cedula  matematicas  fisica  quimica\n",
              "0    pepe morales     123           60      62       64\n",
              "1  juanita mendez     456           52      54       56\n",
              "2   alberto perez     789           70      71       72\n",
              "3   maria moñitos    1011           90      92       94"
            ],
            "text/html": [
              "\n",
              "  <div id=\"df-8b6013fd-def7-4cf1-b76c-4146326878c2\" class=\"colab-df-container\">\n",
              "    <div>\n",
              "<style scoped>\n",
              "    .dataframe tbody tr th:only-of-type {\n",
              "        vertical-align: middle;\n",
              "    }\n",
              "\n",
              "    .dataframe tbody tr th {\n",
              "        vertical-align: top;\n",
              "    }\n",
              "\n",
              "    .dataframe thead th {\n",
              "        text-align: right;\n",
              "    }\n",
              "</style>\n",
              "<table border=\"1\" class=\"dataframe\">\n",
              "  <thead>\n",
              "    <tr style=\"text-align: right;\">\n",
              "      <th></th>\n",
              "      <th>alumno</th>\n",
              "      <th>cedula</th>\n",
              "      <th>matematicas</th>\n",
              "      <th>fisica</th>\n",
              "      <th>quimica</th>\n",
              "    </tr>\n",
              "  </thead>\n",
              "  <tbody>\n",
              "    <tr>\n",
              "      <th>0</th>\n",
              "      <td>pepe morales</td>\n",
              "      <td>123</td>\n",
              "      <td>60</td>\n",
              "      <td>62</td>\n",
              "      <td>64</td>\n",
              "    </tr>\n",
              "    <tr>\n",
              "      <th>1</th>\n",
              "      <td>juanita mendez</td>\n",
              "      <td>456</td>\n",
              "      <td>52</td>\n",
              "      <td>54</td>\n",
              "      <td>56</td>\n",
              "    </tr>\n",
              "    <tr>\n",
              "      <th>2</th>\n",
              "      <td>alberto perez</td>\n",
              "      <td>789</td>\n",
              "      <td>70</td>\n",
              "      <td>71</td>\n",
              "      <td>72</td>\n",
              "    </tr>\n",
              "    <tr>\n",
              "      <th>3</th>\n",
              "      <td>maria moñitos</td>\n",
              "      <td>1011</td>\n",
              "      <td>90</td>\n",
              "      <td>92</td>\n",
              "      <td>94</td>\n",
              "    </tr>\n",
              "  </tbody>\n",
              "</table>\n",
              "</div>\n",
              "    <div class=\"colab-df-buttons\">\n",
              "\n",
              "  <div class=\"colab-df-container\">\n",
              "    <button class=\"colab-df-convert\" onclick=\"convertToInteractive('df-8b6013fd-def7-4cf1-b76c-4146326878c2')\"\n",
              "            title=\"Convert this dataframe to an interactive table.\"\n",
              "            style=\"display:none;\">\n",
              "\n",
              "  <svg xmlns=\"http://www.w3.org/2000/svg\" height=\"24px\" viewBox=\"0 -960 960 960\">\n",
              "    <path d=\"M120-120v-720h720v720H120Zm60-500h600v-160H180v160Zm220 220h160v-160H400v160Zm0 220h160v-160H400v160ZM180-400h160v-160H180v160Zm440 0h160v-160H620v160ZM180-180h160v-160H180v160Zm440 0h160v-160H620v160Z\"/>\n",
              "  </svg>\n",
              "    </button>\n",
              "\n",
              "  <style>\n",
              "    .colab-df-container {\n",
              "      display:flex;\n",
              "      gap: 12px;\n",
              "    }\n",
              "\n",
              "    .colab-df-convert {\n",
              "      background-color: #E8F0FE;\n",
              "      border: none;\n",
              "      border-radius: 50%;\n",
              "      cursor: pointer;\n",
              "      display: none;\n",
              "      fill: #1967D2;\n",
              "      height: 32px;\n",
              "      padding: 0 0 0 0;\n",
              "      width: 32px;\n",
              "    }\n",
              "\n",
              "    .colab-df-convert:hover {\n",
              "      background-color: #E2EBFA;\n",
              "      box-shadow: 0px 1px 2px rgba(60, 64, 67, 0.3), 0px 1px 3px 1px rgba(60, 64, 67, 0.15);\n",
              "      fill: #174EA6;\n",
              "    }\n",
              "\n",
              "    .colab-df-buttons div {\n",
              "      margin-bottom: 4px;\n",
              "    }\n",
              "\n",
              "    [theme=dark] .colab-df-convert {\n",
              "      background-color: #3B4455;\n",
              "      fill: #D2E3FC;\n",
              "    }\n",
              "\n",
              "    [theme=dark] .colab-df-convert:hover {\n",
              "      background-color: #434B5C;\n",
              "      box-shadow: 0px 1px 3px 1px rgba(0, 0, 0, 0.15);\n",
              "      filter: drop-shadow(0px 1px 2px rgba(0, 0, 0, 0.3));\n",
              "      fill: #FFFFFF;\n",
              "    }\n",
              "  </style>\n",
              "\n",
              "    <script>\n",
              "      const buttonEl =\n",
              "        document.querySelector('#df-8b6013fd-def7-4cf1-b76c-4146326878c2 button.colab-df-convert');\n",
              "      buttonEl.style.display =\n",
              "        google.colab.kernel.accessAllowed ? 'block' : 'none';\n",
              "\n",
              "      async function convertToInteractive(key) {\n",
              "        const element = document.querySelector('#df-8b6013fd-def7-4cf1-b76c-4146326878c2');\n",
              "        const dataTable =\n",
              "          await google.colab.kernel.invokeFunction('convertToInteractive',\n",
              "                                                    [key], {});\n",
              "        if (!dataTable) return;\n",
              "\n",
              "        const docLinkHtml = 'Like what you see? Visit the ' +\n",
              "          '<a target=\"_blank\" href=https://colab.research.google.com/notebooks/data_table.ipynb>data table notebook</a>'\n",
              "          + ' to learn more about interactive tables.';\n",
              "        element.innerHTML = '';\n",
              "        dataTable['output_type'] = 'display_data';\n",
              "        await google.colab.output.renderOutput(dataTable, element);\n",
              "        const docLink = document.createElement('div');\n",
              "        docLink.innerHTML = docLinkHtml;\n",
              "        element.appendChild(docLink);\n",
              "      }\n",
              "    </script>\n",
              "  </div>\n",
              "\n",
              "\n",
              "<div id=\"df-263c6a6c-984d-4f1b-8fd4-8160a7adda76\">\n",
              "  <button class=\"colab-df-quickchart\" onclick=\"quickchart('df-263c6a6c-984d-4f1b-8fd4-8160a7adda76')\"\n",
              "            title=\"Suggest charts\"\n",
              "            style=\"display:none;\">\n",
              "\n",
              "<svg xmlns=\"http://www.w3.org/2000/svg\" height=\"24px\"viewBox=\"0 0 24 24\"\n",
              "     width=\"24px\">\n",
              "    <g>\n",
              "        <path d=\"M19 3H5c-1.1 0-2 .9-2 2v14c0 1.1.9 2 2 2h14c1.1 0 2-.9 2-2V5c0-1.1-.9-2-2-2zM9 17H7v-7h2v7zm4 0h-2V7h2v10zm4 0h-2v-4h2v4z\"/>\n",
              "    </g>\n",
              "</svg>\n",
              "  </button>\n",
              "\n",
              "<style>\n",
              "  .colab-df-quickchart {\n",
              "      --bg-color: #E8F0FE;\n",
              "      --fill-color: #1967D2;\n",
              "      --hover-bg-color: #E2EBFA;\n",
              "      --hover-fill-color: #174EA6;\n",
              "      --disabled-fill-color: #AAA;\n",
              "      --disabled-bg-color: #DDD;\n",
              "  }\n",
              "\n",
              "  [theme=dark] .colab-df-quickchart {\n",
              "      --bg-color: #3B4455;\n",
              "      --fill-color: #D2E3FC;\n",
              "      --hover-bg-color: #434B5C;\n",
              "      --hover-fill-color: #FFFFFF;\n",
              "      --disabled-bg-color: #3B4455;\n",
              "      --disabled-fill-color: #666;\n",
              "  }\n",
              "\n",
              "  .colab-df-quickchart {\n",
              "    background-color: var(--bg-color);\n",
              "    border: none;\n",
              "    border-radius: 50%;\n",
              "    cursor: pointer;\n",
              "    display: none;\n",
              "    fill: var(--fill-color);\n",
              "    height: 32px;\n",
              "    padding: 0;\n",
              "    width: 32px;\n",
              "  }\n",
              "\n",
              "  .colab-df-quickchart:hover {\n",
              "    background-color: var(--hover-bg-color);\n",
              "    box-shadow: 0 1px 2px rgba(60, 64, 67, 0.3), 0 1px 3px 1px rgba(60, 64, 67, 0.15);\n",
              "    fill: var(--button-hover-fill-color);\n",
              "  }\n",
              "\n",
              "  .colab-df-quickchart-complete:disabled,\n",
              "  .colab-df-quickchart-complete:disabled:hover {\n",
              "    background-color: var(--disabled-bg-color);\n",
              "    fill: var(--disabled-fill-color);\n",
              "    box-shadow: none;\n",
              "  }\n",
              "\n",
              "  .colab-df-spinner {\n",
              "    border: 2px solid var(--fill-color);\n",
              "    border-color: transparent;\n",
              "    border-bottom-color: var(--fill-color);\n",
              "    animation:\n",
              "      spin 1s steps(1) infinite;\n",
              "  }\n",
              "\n",
              "  @keyframes spin {\n",
              "    0% {\n",
              "      border-color: transparent;\n",
              "      border-bottom-color: var(--fill-color);\n",
              "      border-left-color: var(--fill-color);\n",
              "    }\n",
              "    20% {\n",
              "      border-color: transparent;\n",
              "      border-left-color: var(--fill-color);\n",
              "      border-top-color: var(--fill-color);\n",
              "    }\n",
              "    30% {\n",
              "      border-color: transparent;\n",
              "      border-left-color: var(--fill-color);\n",
              "      border-top-color: var(--fill-color);\n",
              "      border-right-color: var(--fill-color);\n",
              "    }\n",
              "    40% {\n",
              "      border-color: transparent;\n",
              "      border-right-color: var(--fill-color);\n",
              "      border-top-color: var(--fill-color);\n",
              "    }\n",
              "    60% {\n",
              "      border-color: transparent;\n",
              "      border-right-color: var(--fill-color);\n",
              "    }\n",
              "    80% {\n",
              "      border-color: transparent;\n",
              "      border-right-color: var(--fill-color);\n",
              "      border-bottom-color: var(--fill-color);\n",
              "    }\n",
              "    90% {\n",
              "      border-color: transparent;\n",
              "      border-bottom-color: var(--fill-color);\n",
              "    }\n",
              "  }\n",
              "</style>\n",
              "\n",
              "  <script>\n",
              "    async function quickchart(key) {\n",
              "      const quickchartButtonEl =\n",
              "        document.querySelector('#' + key + ' button');\n",
              "      quickchartButtonEl.disabled = true;  // To prevent multiple clicks.\n",
              "      quickchartButtonEl.classList.add('colab-df-spinner');\n",
              "      try {\n",
              "        const charts = await google.colab.kernel.invokeFunction(\n",
              "            'suggestCharts', [key], {});\n",
              "      } catch (error) {\n",
              "        console.error('Error during call to suggestCharts:', error);\n",
              "      }\n",
              "      quickchartButtonEl.classList.remove('colab-df-spinner');\n",
              "      quickchartButtonEl.classList.add('colab-df-quickchart-complete');\n",
              "    }\n",
              "    (() => {\n",
              "      let quickchartButtonEl =\n",
              "        document.querySelector('#df-263c6a6c-984d-4f1b-8fd4-8160a7adda76 button');\n",
              "      quickchartButtonEl.style.display =\n",
              "        google.colab.kernel.accessAllowed ? 'block' : 'none';\n",
              "    })();\n",
              "  </script>\n",
              "</div>\n",
              "\n",
              "  <div id=\"id_36dd3c21-118c-4260-811e-b692509f672e\">\n",
              "    <style>\n",
              "      .colab-df-generate {\n",
              "        background-color: #E8F0FE;\n",
              "        border: none;\n",
              "        border-radius: 50%;\n",
              "        cursor: pointer;\n",
              "        display: none;\n",
              "        fill: #1967D2;\n",
              "        height: 32px;\n",
              "        padding: 0 0 0 0;\n",
              "        width: 32px;\n",
              "      }\n",
              "\n",
              "      .colab-df-generate:hover {\n",
              "        background-color: #E2EBFA;\n",
              "        box-shadow: 0px 1px 2px rgba(60, 64, 67, 0.3), 0px 1px 3px 1px rgba(60, 64, 67, 0.15);\n",
              "        fill: #174EA6;\n",
              "      }\n",
              "\n",
              "      [theme=dark] .colab-df-generate {\n",
              "        background-color: #3B4455;\n",
              "        fill: #D2E3FC;\n",
              "      }\n",
              "\n",
              "      [theme=dark] .colab-df-generate:hover {\n",
              "        background-color: #434B5C;\n",
              "        box-shadow: 0px 1px 3px 1px rgba(0, 0, 0, 0.15);\n",
              "        filter: drop-shadow(0px 1px 2px rgba(0, 0, 0, 0.3));\n",
              "        fill: #FFFFFF;\n",
              "      }\n",
              "    </style>\n",
              "    <button class=\"colab-df-generate\" onclick=\"generateWithVariable('df')\"\n",
              "            title=\"Generate code using this dataframe.\"\n",
              "            style=\"display:none;\">\n",
              "\n",
              "  <svg xmlns=\"http://www.w3.org/2000/svg\" height=\"24px\"viewBox=\"0 0 24 24\"\n",
              "       width=\"24px\">\n",
              "    <path d=\"M7,19H8.4L18.45,9,17,7.55,7,17.6ZM5,21V16.75L18.45,3.32a2,2,0,0,1,2.83,0l1.4,1.43a1.91,1.91,0,0,1,.58,1.4,1.91,1.91,0,0,1-.58,1.4L9.25,21ZM18.45,9,17,7.55Zm-12,3A5.31,5.31,0,0,0,4.9,8.1,5.31,5.31,0,0,0,1,6.5,5.31,5.31,0,0,0,4.9,4.9,5.31,5.31,0,0,0,6.5,1,5.31,5.31,0,0,0,8.1,4.9,5.31,5.31,0,0,0,12,6.5,5.46,5.46,0,0,0,6.5,12Z\"/>\n",
              "  </svg>\n",
              "    </button>\n",
              "    <script>\n",
              "      (() => {\n",
              "      const buttonEl =\n",
              "        document.querySelector('#id_36dd3c21-118c-4260-811e-b692509f672e button.colab-df-generate');\n",
              "      buttonEl.style.display =\n",
              "        google.colab.kernel.accessAllowed ? 'block' : 'none';\n",
              "\n",
              "      buttonEl.onclick = () => {\n",
              "        google.colab.notebook.generateWithVariable('df');\n",
              "      }\n",
              "      })();\n",
              "    </script>\n",
              "  </div>\n",
              "\n",
              "    </div>\n",
              "  </div>\n"
            ],
            "application/vnd.google.colaboratory.intrinsic+json": {
              "type": "dataframe",
              "variable_name": "df",
              "summary": "{\n  \"name\": \"df\",\n  \"rows\": 4,\n  \"fields\": [\n    {\n      \"column\": \"alumno\",\n      \"properties\": {\n        \"dtype\": \"string\",\n        \"num_unique_values\": 4,\n        \"samples\": [\n          \"juanita mendez\",\n          \"maria mo\\u00f1itos\",\n          \"pepe morales\"\n        ],\n        \"semantic_type\": \"\",\n        \"description\": \"\"\n      }\n    },\n    {\n      \"column\": \"cedula\",\n      \"properties\": {\n        \"dtype\": \"number\",\n        \"std\": 388,\n        \"min\": 123,\n        \"max\": 1011,\n        \"num_unique_values\": 4,\n        \"samples\": [\n          456,\n          1011,\n          123\n        ],\n        \"semantic_type\": \"\",\n        \"description\": \"\"\n      }\n    },\n    {\n      \"column\": \"matematicas\",\n      \"properties\": {\n        \"dtype\": \"number\",\n        \"std\": 16,\n        \"min\": 52,\n        \"max\": 90,\n        \"num_unique_values\": 4,\n        \"samples\": [\n          52,\n          90,\n          60\n        ],\n        \"semantic_type\": \"\",\n        \"description\": \"\"\n      }\n    },\n    {\n      \"column\": \"fisica\",\n      \"properties\": {\n        \"dtype\": \"number\",\n        \"std\": 16,\n        \"min\": 54,\n        \"max\": 92,\n        \"num_unique_values\": 4,\n        \"samples\": [\n          54,\n          92,\n          62\n        ],\n        \"semantic_type\": \"\",\n        \"description\": \"\"\n      }\n    },\n    {\n      \"column\": \"quimica\",\n      \"properties\": {\n        \"dtype\": \"number\",\n        \"std\": 16,\n        \"min\": 56,\n        \"max\": 94,\n        \"num_unique_values\": 4,\n        \"samples\": [\n          56,\n          94,\n          64\n        ],\n        \"semantic_type\": \"\",\n        \"description\": \"\"\n      }\n    }\n  ]\n}"
            }
          },
          "metadata": {},
          "execution_count": 43
        }
      ]
    },
    {
      "cell_type": "markdown",
      "source": [
        "ahora a generar los archivos\n"
      ],
      "metadata": {
        "id": "LDQmGM7kW-nc"
      }
    },
    {
      "cell_type": "code",
      "source": [
        "for indice, fila in df.iterrows():\n",
        "  print(fila)"
      ],
      "metadata": {
        "colab": {
          "base_uri": "https://localhost:8080/"
        },
        "id": "KXPcCa19XBvL",
        "outputId": "70010737-660c-4e45-cef3-4944501b7ec8"
      },
      "execution_count": 44,
      "outputs": [
        {
          "output_type": "stream",
          "name": "stdout",
          "text": [
            "alumno         pepe morales\n",
            "cedula                  123\n",
            "matematicas              60\n",
            "fisica                   62\n",
            "quimica                  64\n",
            "Name: 0, dtype: object\n",
            "alumno         juanita mendez\n",
            "cedula                    456\n",
            "matematicas                52\n",
            "fisica                     54\n",
            "quimica                    56\n",
            "Name: 1, dtype: object\n",
            "alumno         alberto perez\n",
            "cedula                   789\n",
            "matematicas               70\n",
            "fisica                    71\n",
            "quimica                   72\n",
            "Name: 2, dtype: object\n",
            "alumno         maria moñitos\n",
            "cedula                  1011\n",
            "matematicas               90\n",
            "fisica                    92\n",
            "quimica                   94\n",
            "Name: 3, dtype: object\n"
          ]
        }
      ]
    },
    {
      "cell_type": "code",
      "source": [
        "for indice, fila in df.iterrows():\n",
        "  contenido={\n",
        "      'nombre_alumno':fila[\"alumno\"],\n",
        "      'cedula_alumno':fila[\"cedula\"],\n",
        "      'nota_fisica':fila[\"fisica\"],\n",
        "      'nota_matematicas':fila[\"matematicas\"],\n",
        "      'nota_quimica':fila[\"quimica\"]\n",
        "  }\n",
        "  contenido.update(constantes)\n",
        "  print(contenido)\n",
        "  doc.render(contenido)\n",
        "  doc.save(f\"/content/drive/MyDrive/Colab Notebooks/automatizar_word_excel/carta_{fila['alumno']}.docx\")"
      ],
      "metadata": {
        "colab": {
          "base_uri": "https://localhost:8080/"
        },
        "id": "CrqMCZl6XTBg",
        "outputId": "97415a95-a715-463d-c50c-64deebbefe98"
      },
      "execution_count": 50,
      "outputs": [
        {
          "output_type": "stream",
          "name": "stdout",
          "text": [
            "{'nombre_alumno': 'pepe morales', 'cedula_alumno': 123, 'nota_fisica': 62, 'nota_matematicas': 60, 'nota_quimica': 64, 'nombre_profesor': 'Luis Sanchez', 'telefono_profesor': '123-123456', 'email_profesor': 'luys@correo.com', 'fecha_actual': '16/09/2024'}\n",
            "{'nombre_alumno': 'juanita mendez', 'cedula_alumno': 456, 'nota_fisica': 54, 'nota_matematicas': 52, 'nota_quimica': 56, 'nombre_profesor': 'Luis Sanchez', 'telefono_profesor': '123-123456', 'email_profesor': 'luys@correo.com', 'fecha_actual': '16/09/2024'}\n",
            "{'nombre_alumno': 'alberto perez', 'cedula_alumno': 789, 'nota_fisica': 71, 'nota_matematicas': 70, 'nota_quimica': 72, 'nombre_profesor': 'Luis Sanchez', 'telefono_profesor': '123-123456', 'email_profesor': 'luys@correo.com', 'fecha_actual': '16/09/2024'}\n",
            "{'nombre_alumno': 'maria moñitos', 'cedula_alumno': 1011, 'nota_fisica': 92, 'nota_matematicas': 90, 'nota_quimica': 94, 'nombre_profesor': 'Luis Sanchez', 'telefono_profesor': '123-123456', 'email_profesor': 'luys@correo.com', 'fecha_actual': '16/09/2024'}\n"
          ]
        }
      ]
    },
    {
      "cell_type": "code",
      "source": [],
      "metadata": {
        "id": "M8dkYfZsXbw_"
      },
      "execution_count": null,
      "outputs": []
    }
  ]
}